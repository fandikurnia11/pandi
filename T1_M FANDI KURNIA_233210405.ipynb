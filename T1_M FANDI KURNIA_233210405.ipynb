{
 "cells": [
  {
   "cell_type": "code",
   "execution_count": 1,
   "metadata": {},
   "outputs": [
    {
     "name": "stdout",
     "output_type": "stream",
     "text": [
      "panjang = 15\n",
      "lebar = 8\n",
      "tinggi = 5\n",
      "volume balok = 600\n"
     ]
    }
   ],
   "source": [
    "# input\n",
    "\n",
    "p = int(input(\"panjang = \" ))\n",
    "l = int(input(\"lebar = \" ))\n",
    "t = int(input(\"tinggi = \" ))\n",
    "\n",
    "# proses menghitung volume balok\n",
    "volume = p * l * t\n",
    "\n",
    "# output volume balok\n",
    "print(\"panjang =\", p)\n",
    "print(\"lebar =\", l)\n",
    "print(\"tinggi =\", t)\n",
    "print(\"volume balok = %.f\" %(volume))"
   ]
  },
  {
   "cell_type": "markdown",
   "metadata": {},
   "source": [
    "Mendeklarasikan variable 'p' yang digunakan untuk menyimpan imputan dari user, dengan tipe data \n",
    "integer. \n",
    "Mendeklarasikan variable 'l' yang digunakan untuk menyimpan imputan dari user, dengan tipe data integer.\n",
    "Mendeklarasikan variable 't' yang digunakan untuk menyimpan imputan dari user, dengan tipe data integer.\n",
    "Mendeklarasikan variable 'volume' yang digunakan untuk menghitung volume balok.\n",
    "'print(\"panjang =\", p) digunakan untuk menampilkan nilai atau isi dari variable 'p'. \n",
    "'print(\"lebar = \", l)' digunakan untuk menampilkan nilai atau isi dari variable 'l'.\n",
    "'print(\"Tinggi = \", t)' digunakan untuk menampilkan nilai atau isi dari variable 't'.\n",
    "'print(\"Volume balok = %.f\" % (volume))' digunakan untuk menampilkan nilai atau isi dari valiable volume, dan '%.f' digunakan untuk tidak menampilkan bilangan setelah (,)."
   ]
  }
 ],
 "metadata": {
  "kernelspec": {
   "display_name": "Python 3",
   "language": "python",
   "name": "python3"
  },
  "language_info": {
   "codemirror_mode": {
    "name": "ipython",
    "version": 3
   },
   "file_extension": ".py",
   "mimetype": "text/x-python",
   "name": "python",
   "nbconvert_exporter": "python",
   "pygments_lexer": "ipython3",
   "version": "3.12.2"
  }
 },
 "nbformat": 4,
 "nbformat_minor": 2
}
